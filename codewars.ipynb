{
 "cells": [
  {
   "cell_type": "code",
   "execution_count": 60,
   "metadata": {},
   "outputs": [
    {
     "name": "stdout",
     "output_type": "stream",
     "text": [
      "[1, 3]\n"
     ]
    }
   ],
   "source": [
    "    #Array.diff\n",
    "def array_diff(a, b):\n",
    "    for enum in a:\n",
    "       for enum_2 in b:\n",
    "           if enum_2 in a:\n",
    "               a.remove(enum_2)\n",
    "    return a\n",
    "a = array_diff([1,2,2,2,3],[2])\n",
    "print(a)\n",
    "#https://www.codewars.com/kata/523f5d21c841566fde000009/solutions/python"
   ]
  },
  {
   "cell_type": "code",
   "execution_count": 12,
   "metadata": {},
   "outputs": [
    {
     "name": "stdout",
     "output_type": "stream",
     "text": [
      "['Hey', 'fellow', 'warriors']\n"
     ]
    }
   ],
   "source": [
    "def spin_words(sentence):\n",
    "    # Your code goes here\n",
    "    return None\n",
    "\n",
    "sentence = 'Hey fellow warriors'\n",
    "a = sentence.split()\n",
    "print(a)"
   ]
  },
  {
   "cell_type": "code",
   "execution_count": 16,
   "metadata": {},
   "outputs": [
    {
     "name": "stdout",
     "output_type": "stream",
     "text": [
      "battle no requires which that is victory greatest The\n"
     ]
    }
   ],
   "source": [
    "#Reversed Words\n",
    "def reverse_words(s):\n",
    "    dummy_v2 = []\n",
    "    dummy = s.split()\n",
    "    for enum in dummy:\n",
    "        dummy_v2.insert(0,enum)\n",
    "    s = ' '\n",
    "    for x in dummy_v2:\n",
    "        s += ' '+ x    \n",
    "    return s.strip()\n",
    "\n",
    "print(reverse_words('The greatest victory is that which requires no battle'))\n",
    "\n",
    "#https://www.codewars.com/kata/51c8991dee245d7ddf00000e/solutions/python"
   ]
  },
  {
   "cell_type": "code",
   "execution_count": 18,
   "metadata": {},
   "outputs": [
    {
     "name": "stdout",
     "output_type": "stream",
     "text": [
      " How Can Mirrors Be Real If Our Eyes Aren't Real\n"
     ]
    }
   ],
   "source": [
    "#Jaden Casing Strings\n",
    "def to_jaden_case(string):\n",
    "    dummy_split = string.split()\n",
    "    string_lst = []\n",
    "    for enum in dummy_split:\n",
    "        string_lst.append(enum.capitalize())\n",
    "    string = ''\n",
    "    for x in string_lst:\n",
    "        string += ' ' + x\n",
    "    return string.strip()\n",
    "\n",
    "print(to_jaden_case(\"How can mirrors be real if our eyes aren't real\"))\n",
    "\n",
    "#https://www.codewars.com/kata/5390bac347d09b7da40006f6/solutions/python\n",
    "\n",
    "#cara cepat\n",
    "def to_jaden_case(string):\n",
    "    return ' '.join(word.capitalize() for word in string.split())"
   ]
  },
  {
   "cell_type": "code",
   "execution_count": 51,
   "metadata": {},
   "outputs": [
    {
     "name": "stdout",
     "output_type": "stream",
     "text": [
      "False\n"
     ]
    }
   ],
   "source": [
    "#Regex validate PIN code\n",
    "def validate_pin(pin):\n",
    "    pin = str(pin)\n",
    "    if len(pin) == 4 or len(pin) == 6:\n",
    "        for enum in pin:\n",
    "            if enum.isdigit() != True:\n",
    "                return False\n",
    "    else:\n",
    "        return False\n",
    "    return True\n",
    "\n",
    "print(validate_pin('42a5'))\n",
    "#https://www.codewars.com/kata/55f8a9c06c018a0d6e000132/solutions/python\n",
    "\n",
    "#cara cepat\n",
    "def validate_pin(pin):\n",
    "    return len(pin) in (4, 6) and pin.isdigit()"
   ]
  },
  {
   "cell_type": "code",
   "execution_count": 66,
   "metadata": {},
   "outputs": [
    {
     "name": "stdout",
     "output_type": "stream",
     "text": [
      "Ths wbst s fr lsrs LOL!\n"
     ]
    }
   ],
   "source": [
    "#Disemvowel Trolls  \n",
    "def disemvowel(string_):\n",
    "    vowels = ['a','i','u','e','o','A','I','U','E','O']\n",
    "    string_final = ''\n",
    "    for enum in string_:\n",
    "        if enum not in vowels:\n",
    "            string_final += enum\n",
    "    return string_final\n",
    "\n",
    "print(disemvowel( \"This website is for losers LOL!\"))\n",
    "\n",
    "#https://www.codewars.com/kata/52fba66badcd10859f00097e/solutions/python\n",
    "\n",
    "#CARA CEPAT\n",
    "def disemvowel(s):\n",
    "    for i in \"aeiouAEIOU\":\n",
    "        s = s.replace(i,'')\n",
    "    return s\n"
   ]
  },
  {
   "cell_type": "code",
   "execution_count": 8,
   "metadata": {},
   "outputs": [
    {
     "name": "stdout",
     "output_type": "stream",
     "text": [
      "False\n"
     ]
    }
   ],
   "source": [
    "#ISOGRAMS\n",
    "def is_isogram(string):\n",
    "    #your code here\n",
    "    string = string.lower()\n",
    "    dummy = []\n",
    "    for enum in string:\n",
    "        if enum.isalpha():\n",
    "            if enum in dummy:\n",
    "                return False\n",
    "            else:\n",
    "                dummy.append(enum)\n",
    "            \n",
    "    return True\n",
    "print(is_isogram('aba'))\n",
    "\n",
    "#https://www.codewars.com/kata/54ba84be607a92aa900000f1/solutions/python\n",
    "\n",
    "#cara cepat\n",
    "def is_isogram(string):\n",
    "    string = string.lower()\n",
    "    return len(string) == len(set(string))\n"
   ]
  },
  {
   "cell_type": "code",
   "execution_count": 36,
   "metadata": {},
   "outputs": [
    {
     "name": "stdout",
     "output_type": "stream",
     "text": [
      "['arp', 'live', 'strong']\n"
     ]
    }
   ],
   "source": [
    "#Which are in?\n",
    "from compileall import compile_path\n",
    "\n",
    "\n",
    "def in_array(array1, array2):\n",
    "    r = []\n",
    "    for enum in array1:\n",
    "        for enum_2 in array2:\n",
    "            if enum in enum_2:\n",
    "                if enum not in r:\n",
    "                    r.append(enum) \n",
    "    r.sort()\n",
    "    return r\n",
    "a1 = [\"arp\", \"live\", \"strong\"]\n",
    "\n",
    "a2 = [\"lively\", \"alive\", \"harp\", \"sharp\", \"armstrong\"]\n",
    "\n",
    "print(in_array(a1,a2))\n",
    "\n",
    "#https://www.codewars.com/kata/550554fd08b86f84fe000a58/solutions/python\n",
    "\n",
    "#cara cepat\n",
    "def in_array(a1, a2):\n",
    "    return sorted({sub for sub in a1 if any(sub in s for s in a2)})\n",
    "\n",
    "def in_array(array1, array2):\n",
    "    # your code\n",
    "    return sorted(set([word for word in array1 for word_2 in array2 if word in word_2]))\n"
   ]
  },
  {
   "cell_type": "code",
   "execution_count": 17,
   "metadata": {},
   "outputs": [
    {
     "data": {
      "text/plain": [
       "True"
      ]
     },
     "execution_count": 17,
     "metadata": {},
     "output_type": "execute_result"
    }
   ],
   "source": [
    "#Detect Pangram\n",
    "def is_pangram(s):\n",
    "    kamus = 'abcdefghijklmnopqrstuvwxyz'\n",
    "    for enum in kamus:\n",
    "        if enum not in s.lower():\n",
    "            return False\n",
    "    return True\n",
    "is_pangram('The quick brown fox jumps over the lazy dog')\n",
    "\n",
    "#https://www.codewars.com/kata/545cedaa9943f7fe7b000048/solutions/python\n",
    "import string\n",
    "\n",
    "def is_pangram(s):\n",
    "    return set(s.lower()) >= set(string.ascii_lowercase)"
   ]
  },
  {
   "cell_type": "code",
   "execution_count": 49,
   "metadata": {},
   "outputs": [
    {
     "data": {
      "text/plain": [
       "'#HelloThereThanksForTryingMyKata'"
      ]
     },
     "execution_count": 49,
     "metadata": {},
     "output_type": "execute_result"
    }
   ],
   "source": [
    "#The Hashtag Generator\n",
    "def generate_hashtag(s):\n",
    "    final = s.title()\n",
    "    final = final.replace(' ','')\n",
    "    if len(final) > 140 or final == '':\n",
    "        return False\n",
    "    else:\n",
    "        return '#' + final\n",
    "\n",
    "\n",
    "generate_hashtag('Hello there thanks for trying my Kata')\n",
    "\n",
    "#https://www.codewars.com/kata/52449b062fb80683ec000024/solutions/python\n",
    "\n",
    "#cara cepat\n",
    "'''\n",
    "def generate_hashtag(s):\n",
    "    ans = '#'+ str(s.title().replace(' ',''))\n",
    "    return s and not len(ans)>140 and ans or False\n",
    "'''\n"
   ]
  },
  {
   "cell_type": "code",
   "execution_count": 42,
   "metadata": {},
   "outputs": [
    {
     "name": "stdout",
     "output_type": "stream",
     "text": [
      "[0, 0.55]\n",
      "4\n",
      "1\n"
     ]
    },
    {
     "data": {
      "text/plain": [
       "0.55"
      ]
     },
     "execution_count": 42,
     "metadata": {},
     "output_type": "execute_result"
    }
   ],
   "source": [
    "#Find the unique number\n",
    "def find_uniq(arr):\n",
    "    # your code here\n",
    "    set_arr = set(arr)\n",
    "    arr2 = list(set_arr)\n",
    "    count_1 = arr.count(arr2[0])\n",
    "    count_2 = arr.count(arr2[1])\n",
    "    if count_1 > count_2:\n",
    "        return arr2[1]\n",
    "    else:\n",
    "        return arr2[0]\n",
    "    #return arr   # n: unique number in the array\n",
    "\n",
    "find_uniq([ 0, 0, 0.55, 0, 0 ])\n",
    "\n",
    "#https://www.codewars.com/kata/585d7d5adb20cf33cb000235/train/python\n",
    "\n",
    "#cara cepat\n",
    "def find_uniq(arr):\n",
    "    a, b = set(arr)\n",
    "    return a if arr.count(a) == 1 else b"
   ]
  },
  {
   "cell_type": "code",
   "execution_count": 43,
   "metadata": {},
   "outputs": [
    {
     "data": {
      "text/plain": [
       "['carer', 'racer']"
      ]
     },
     "execution_count": 43,
     "metadata": {},
     "output_type": "execute_result"
    }
   ],
   "source": [
    "#ANAGRAM\n",
    "def anagrams(word, words):\n",
    "    #your code here\n",
    "    result = []\n",
    "    for enum in words:\n",
    "        if ''.join(sorted(enum)) == ''.join(sorted(word)):\n",
    "            result.append(enum)\n",
    "    return result\n",
    "    \n",
    "anagrams('racer', ['crazer', 'carer', 'racar', 'caers', 'racer'])\n",
    "\n",
    "#https://www.codewars.com/kata/523a86aa4230ebb5420001e1/train/python\n",
    "\n",
    "#CARA CEPAT\n",
    "def anagrams(word, words): \n",
    "    return [item for item in words if sorted(item)==sorted(word)]"
   ]
  },
  {
   "cell_type": "code",
   "execution_count": 55,
   "metadata": {},
   "outputs": [
    {
     "data": {
      "text/plain": [
       "'CamelCaseWord'"
      ]
     },
     "execution_count": 55,
     "metadata": {},
     "output_type": "execute_result"
    }
   ],
   "source": [
    "#CamelCase\n",
    "def camel_case(string):\n",
    "    #your code here\n",
    "    string = string.title()\n",
    "    string = string.replace(' ','')\n",
    "    return string\n",
    "\n",
    "camel_case('camel case word')\n",
    "\n",
    "#https://www.codewars.com/kata/587731fda577b3d1b0001196/solutions/python\n",
    "\n",
    "#cara cepat\n",
    "def camel_case(string):\n",
    "    return string.title().replace(\" \", \"\")"
   ]
  },
  {
   "cell_type": "code",
   "execution_count": 104,
   "metadata": {},
   "outputs": [
    {
     "data": {
      "text/plain": [
       "False"
      ]
     },
     "execution_count": 104,
     "metadata": {},
     "output_type": "execute_result"
    }
   ],
   "source": [
    "#Not very secure\n",
    "\n",
    "def alphanumeric(password):\n",
    "    if password == '':\n",
    "        return False\n",
    "    for enum in password:\n",
    "        if not enum.isdigit() and not enum.isalpha() or enum == '':\n",
    "            return False\n",
    "        elif len(password) == 0:\n",
    "            return False\n",
    "    return True\n",
    "\n",
    "#alphanumeric(\"hello world_\")\n",
    "#alphanumeric(\"PassW0rd\")\n",
    "alphanumeric('')\n",
    "\n",
    "#https://www.codewars.com/kata/526dbd6c8c0eb53254000110/solutions/python\n",
    "\n",
    "#cara cepat\n",
    "def alphanumeric(string):\n",
    "    return string.isalnum()"
   ]
  },
  {
   "cell_type": "code",
   "execution_count": 97,
   "metadata": {},
   "outputs": [
    {
     "name": "stdout",
     "output_type": "stream",
     "text": [
      "0\n"
     ]
    }
   ],
   "source": [
    "print(len(''))"
   ]
  },
  {
   "cell_type": "code",
   "execution_count": null,
   "metadata": {},
   "outputs": [],
   "source": []
  },
  {
   "cell_type": "code",
   "execution_count": null,
   "metadata": {},
   "outputs": [],
   "source": []
  }
 ],
 "metadata": {
  "kernelspec": {
   "display_name": "Python 3.10.5 64-bit",
   "language": "python",
   "name": "python3"
  },
  "language_info": {
   "codemirror_mode": {
    "name": "ipython",
    "version": 3
   },
   "file_extension": ".py",
   "mimetype": "text/x-python",
   "name": "python",
   "nbconvert_exporter": "python",
   "pygments_lexer": "ipython3",
   "version": "3.10.5"
  },
  "orig_nbformat": 4,
  "vscode": {
   "interpreter": {
    "hash": "9f2447cf551f7e602848160f1900cfbb8620a2aa30a5692a1068e552d18f87e9"
   }
  }
 },
 "nbformat": 4,
 "nbformat_minor": 2
}
