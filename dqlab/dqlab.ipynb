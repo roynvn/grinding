{
 "cells": [
  {
   "cell_type": "code",
   "execution_count": 1,
   "metadata": {},
   "outputs": [
    {
     "name": "stdout",
     "output_type": "stream",
     "text": [
      "[{'nama': 'Sepatu Niko', 'harga': 150000, 'diskon': 30000}, {'nama': 'Baju Unikloh', 'harga': 80000, 'diskon': 8000}, {'nama': 'Celana Lepis', 'harga': 200000, 'diskon': 60000}]\n"
     ]
    }
   ],
   "source": [
    "#EKSPEDISI PAMANKU\n",
    "# Data\n",
    "uang_jalan = 1500000\n",
    "jumlah_hari = 31\n",
    "list_plat_nomor = [8993, 2198, 2501, 2735, 3772, 4837, 9152]\n",
    "# Pengecekan kendaraan dengan nomor pelat ganjil atau genap \n",
    "# Deklarasikan kendaraan_genap dan kendaraan_ganjil = 0\n",
    "kendaraan_genap = 0 \n",
    "kendaraan_ganjil = 0\n",
    "for plat_nomor in list_plat_nomor:\n",
    "    if plat_nomor % 2 == 0:\n",
    "        kendaraan_genap += 1 \n",
    "    else:\n",
    "        kendaraan_ganjil += 1\n",
    "# Total pengeluaran untuk kendaraan dengan nomor pelat ganjil \n",
    "# dan genap dalam 1 bulan\n",
    "i = 1\n",
    "total_pengeluaran = 0\n",
    "while i <= jumlah_hari:\n",
    "    if i % 2 == 0:\n",
    "        total_pengeluaran += (kendaraan_genap * uang_jalan)\n",
    "    else:\n",
    "        total_pengeluaran += (kendaraan_ganjil * uang_jalan) \n",
    "    i += 1\n",
    "# Cetak total pengeluaran\n",
    "print(total_pengeluaran)"
   ]
  }
 ],
 "metadata": {
  "kernelspec": {
   "display_name": "Python 3.10.5 64-bit",
   "language": "python",
   "name": "python3"
  },
  "language_info": {
   "codemirror_mode": {
    "name": "ipython",
    "version": 3
   },
   "file_extension": ".py",
   "mimetype": "text/x-python",
   "name": "python",
   "nbconvert_exporter": "python",
   "pygments_lexer": "ipython3",
   "version": "3.10.5"
  },
  "orig_nbformat": 4,
  "vscode": {
   "interpreter": {
    "hash": "9f2447cf551f7e602848160f1900cfbb8620a2aa30a5692a1068e552d18f87e9"
   }
  }
 },
 "nbformat": 4,
 "nbformat_minor": 2
}
